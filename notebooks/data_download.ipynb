{
  "nbformat": 4,
  "nbformat_minor": 0,
  "metadata": {
    "colab": {
      "name": "data_download.ipynb",
      "provenance": [],
      "authorship_tag": "ABX9TyPTiwxJGMOZKJOuXYHZS5k7",
      "include_colab_link": true
    },
    "kernelspec": {
      "name": "python3",
      "display_name": "Python 3"
    },
    "language_info": {
      "name": "python"
    }
  },
  "cells": [
    {
      "cell_type": "markdown",
      "metadata": {
        "id": "view-in-github",
        "colab_type": "text"
      },
      "source": [
        "<a href=\"https://colab.research.google.com/github/amsewr/planeclassification/blob/main/notebooks/data_download.ipynb\" target=\"_parent\"><img src=\"https://colab.research.google.com/assets/colab-badge.svg\" alt=\"Open In Colab\"/></a>"
      ]
    },
    {
      "cell_type": "code",
      "execution_count": 1,
      "metadata": {
        "colab": {
          "base_uri": "https://localhost:8080/"
        },
        "id": "NWyj-SDb6SKt",
        "outputId": "d7270141-3401-4871-b00f-edb631198057"
      },
      "outputs": [
        {
          "output_type": "stream",
          "name": "stdout",
          "text": [
            "  % Total    % Received % Xferd  Average Speed   Time    Time     Time  Current\n",
            "                                 Dload  Upload   Total   Spent    Left  Speed\n",
            "100 2625M  100 2625M    0     0  8169k      0  0:05:29  0:05:29 --:--:-- 6063k\n"
          ]
        }
      ],
      "source": [
        "#download data and save to file\n",
        "!curl -O https://www.robots.ox.ac.uk/~vgg/data/fgvc-aircraft/archives/fgvc-aircraft-2013b.tar.gz"
      ]
    },
    {
      "cell_type": "code",
      "source": [
        "#fichiers tar \n",
        "# commandes :\n",
        "# x : extraire \n",
        "# f : indiquer le nom du fichier (mettre en dernier)\n",
        "# z : le fichier est compressé \n",
        "# t : lister les fichiers sans décompresser \n",
        "# v : avoir du détail sur les fichiers \n",
        "# c : créer un fichier tar\n",
        "\n",
        "#lister les fichiers avant de décompresser \n",
        "!tar ztvf fgvc-aircraft-2013b.tar.gz"
      ],
      "metadata": {
        "id": "4dGg_Q709EDN"
      },
      "execution_count": null,
      "outputs": []
    },
    {
      "cell_type": "markdown",
      "source": [
        "Untar files"
      ],
      "metadata": {
        "id": "M9H-u8HxAEvb"
      }
    },
    {
      "cell_type": "code",
      "source": [
        "!tar zxf fgvc-aircraft-2013b.tar.gz"
      ],
      "metadata": {
        "id": "93tgWRL4_KML"
      },
      "execution_count": 3,
      "outputs": []
    },
    {
      "cell_type": "markdown",
      "source": [
        "Rename dataset"
      ],
      "metadata": {
        "id": "7LrvTLjJYKLT"
      }
    },
    {
      "cell_type": "code",
      "source": [
        "!mv fgvc-aircraft-2013b/ dataset "
      ],
      "metadata": {
        "colab": {
          "base_uri": "https://localhost:8080/"
        },
        "id": "cDxTlKnjYDA5",
        "outputId": "eb2fc300-ea27-4d72-b162-ec92653dc684"
      },
      "execution_count": 6,
      "outputs": [
        {
          "output_type": "stream",
          "name": "stdout",
          "text": [
            "mv: cannot stat 'fgvc-aircraft-2013b/': No such file or directory\n"
          ]
        }
      ]
    }
  ]
}