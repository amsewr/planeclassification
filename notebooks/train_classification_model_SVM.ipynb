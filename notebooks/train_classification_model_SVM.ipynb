{
  "cells": [
    {
      "cell_type": "markdown",
      "metadata": {
        "id": "view-in-github",
        "colab_type": "text"
      },
      "source": [
        "<a href=\"https://colab.research.google.com/github/amsewr/planeclassification/blob/main/notebooks/train_classification_model_SVM.ipynb\" target=\"_parent\"><img src=\"https://colab.research.google.com/assets/colab-badge.svg\" alt=\"Open In Colab\"/></a>"
      ]
    },
    {
      "cell_type": "markdown",
      "metadata": {
        "id": "SBKnQqP6jMEa"
      },
      "source": [
        "# Load data & imports"
      ]
    },
    {
      "cell_type": "code",
      "execution_count": null,
      "metadata": {
        "colab": {
          "background_save": true
        },
        "id": "UoEZDfmNYuZn"
      },
      "outputs": [],
      "source": [
        "!curl -O https://www.robots.ox.ac.uk/~vgg/data/fgvc-aircraft/archives/fgvc-aircraft-2013b.tar.gz\n",
        "!tar zxf fgvc-aircraft-2013b.tar.gz\n",
        "!mv fgvc-aircraft-2013b dataset "
      ]
    },
    {
      "cell_type": "code",
      "execution_count": null,
      "metadata": {
        "colab": {
          "background_save": true
        },
        "id": "fjIBYx08EiZt"
      },
      "outputs": [],
      "source": [
        "%%writefile requirements.txt\n",
        "\n",
        "pathlib==1.0.1\n",
        "matplotlib==3.5.0\n",
        "numpy==1.21.5\n",
        "pandas==1.3.5\n",
        "tensorflow==2.8.0\n",
        "keras==2.8.0\n",
        "sklearn\n",
        "pickle "
      ]
    },
    {
      "cell_type": "code",
      "execution_count": null,
      "metadata": {
        "colab": {
          "background_save": true
        },
        "id": "h1-H_uweEnBB"
      },
      "outputs": [],
      "source": [
        "!pip install -r requirements.txt"
      ]
    },
    {
      "cell_type": "code",
      "execution_count": null,
      "metadata": {
        "colab": {
          "background_save": true
        },
        "id": "qiHphoROZYA7"
      },
      "outputs": [],
      "source": [
        "import pathlib \n",
        "\n",
        "import matplotlib.pyplot as plt\n",
        "import numpy as np\n",
        "import pandas as pd\n",
        "import pickle\n",
        "import seaborn as sns\n",
        "import tensorflow as tf\n",
        "import yaml\n",
        "\n",
        "from keras.models import Sequential, load_model\n",
        "from keras.layers import Conv2D, MaxPool2D, Dense, Flatten, Dropout\n",
        "\n",
        "from sklearn.datasets import make_classification\n",
        "from sklearn.model_selection import train_test_split\n",
        "from sklearn.pipeline import make_pipeline\n",
        "from sklearn.preprocessing import StandardScaler\n",
        "from sklearn.svm import LinearSVC\n",
        "\n",
        "from PIL import Image\n",
        "from yaml.loader import SafeLoader"
      ]
    },
    {
      "cell_type": "markdown",
      "metadata": {
        "id": "6-07EA_56wwg"
      },
      "source": [
        "# Constantes"
      ]
    },
    {
      "cell_type": "code",
      "execution_count": null,
      "metadata": {
        "colab": {
          "base_uri": "https://localhost:8080/"
        },
        "id": "MxpQhdNIREZL",
        "outputId": "0c722a21-1658-4c5e-af42-b66212ec9c47"
      },
      "outputs": [
        {
          "name": "stdout",
          "output_type": "stream",
          "text": [
            "Overwriting launch.yaml\n"
          ]
        }
      ],
      "source": [
        "%%writefile launch.yaml\n",
        "\n",
        "---\n",
        "DATA_DIR: dataset/data\n",
        "MODEL_DIR: model/planes\n",
        "TARGET_NAME : variant\n",
        "\n",
        "IMAGE_WIDTH: 128\n",
        "IMAGE_HEIGHT: 128\n",
        "IMAGE_DEPTH: 3"
      ]
    },
    {
      "cell_type": "code",
      "execution_count": null,
      "metadata": {
        "colab": {
          "base_uri": "https://localhost:8080/"
        },
        "id": "AzpUhF8eQbyH",
        "outputId": "33c4e5b9-8ad5-41fb-d63b-6d9016200ef9"
      },
      "outputs": [
        {
          "name": "stdout",
          "output_type": "stream",
          "text": [
            "{'DATA_DIR': 'dataset/data', 'MODEL_DIR': 'model/planes', 'TARGET_NAME': 'variant', 'IMAGE_WIDTH': 128, 'IMAGE_HEIGHT': 128, 'IMAGE_DEPTH': 3}\n"
          ]
        }
      ],
      "source": [
        "with open('launch.yaml') as f:\n",
        "  data = yaml.load(f, Loader=SafeLoader)\n",
        "  print(data)"
      ]
    },
    {
      "cell_type": "code",
      "execution_count": null,
      "metadata": {
        "id": "eGOAGck9Rr3k"
      },
      "outputs": [],
      "source": [
        "DATA_DIR = pathlib.Path(data['DATA_DIR'])\n",
        "MODEL_DIR = pathlib.Path(data['MODEL_DIR'])\n",
        "TARGET_NAME = data['TARGET_NAME']\n",
        "IMAGE_WIDTH = data['IMAGE_WIDTH']\n",
        "IMAGE_HEIGHT = data['IMAGE_HEIGHT']\n",
        "IMAGE_DEPTH = data['IMAGE_DEPTH']"
      ]
    },
    {
      "cell_type": "markdown",
      "metadata": {
        "id": "Bh_Ef4ZA7b4y"
      },
      "source": [
        "# Functions"
      ]
    },
    {
      "cell_type": "code",
      "execution_count": null,
      "metadata": {
        "id": "bYQbthizF4UD"
      },
      "outputs": [],
      "source": [
        "def build_image_database(path, target) :\n",
        "  \"\"\"Build a pandas dataframe with target class and access path to images.\n",
        "\n",
        "  Parameters\n",
        "  ----------\n",
        "  path (Path) : path pattern to read csv file containing images information. \n",
        "  target (str) : name of the target column.\n",
        "\n",
        "  Returns \n",
        "  -------\n",
        "  A pandas dataframe, including target class and path to image.\n",
        "  \"\"\"\n",
        "\n",
        "  _df =pd.read_csv(path, sep='\\t'\n",
        "                , names=['all']\n",
        "                , dtype ={'all':str} # id are string not int\n",
        "                )\n",
        "\n",
        "  #split donne une chaine de caractères\n",
        "  _df['image_id'] = _df['all'].apply(lambda x: x.split(' ')[0])\n",
        "\n",
        "  #'<car>'.join(liste) concatène les éléments de la liste avec le séparateur '<car>'\n",
        "  _df[target] = _df['all'].apply(lambda x: ' '.join(x.split(' ')[1:]))\n",
        "\n",
        "  # La colonne path contient le chemin d'accès à l'image\n",
        "  _df['path'] = _df['image_id'].apply(lambda x: pathlib.Path('dataset/data/images') / (x +'.jpg'))\n",
        "\n",
        "  return _df.drop(columns=['all'])"
      ]
    },
    {
      "cell_type": "code",
      "execution_count": null,
      "metadata": {
        "id": "vpPi2mUFJ3Xt"
      },
      "outputs": [],
      "source": [
        "manufacturer_df = build_image_database(DATA_DIR / 'images_{}_train.txt'.format(TARGET_NAME), TARGET_NAME)"
      ]
    },
    {
      "cell_type": "code",
      "execution_count": null,
      "metadata": {
        "id": "lsLaueH4MDDp"
      },
      "outputs": [],
      "source": [
        "# La fonction :\n",
        "# - prend un df (argument) \n",
        "# - prend une ligne (row : argument, l'indice de la ligne)\n",
        "# - prend une colonne (target : argument)\n",
        "# - elle affiche la classe (valeur de target) et l'image associée, pour la ligne en argument\n",
        "\n",
        "def show_image(df, row, target) : \n",
        "  \"\"\"Show an image from an image database, with the associated class\n",
        "\n",
        "  Parameters\n",
        "  -----------\n",
        "  df(pd.DataFrame) : images definition dataframe\n",
        "  row (int) :  row index in df of image to be displayed\n",
        "  target (str) : name of the target column\n",
        "\n",
        "  Returns\n",
        "  ---------\n",
        "  None\n",
        "  \"\"\"\n",
        "  assert target in df.columns, \"Missing target column in dataframe\"\n",
        "  assert 'path' in df.columns, \"Missing image path in dataframe\"\n",
        "  print(df.iloc[row,][target])\n",
        "  plt.imshow(plt.imread(df.iloc[row,]['path']))\n",
        "\n",
        "  return"
      ]
    },
    {
      "cell_type": "code",
      "execution_count": null,
      "metadata": {
        "colab": {
          "base_uri": "https://localhost:8080/"
        },
        "id": "cfKK3I50RgFO",
        "outputId": "f2988e7d-b068-497c-ec74-0d0c895cfc6f"
      },
      "outputs": [
        {
          "name": "stdout",
          "output_type": "stream",
          "text": [
            "C-130\n"
          ]
        },
        {
          "data": {
            "image/png": "[encoded data removed]",
            "text/plain": [
              "<Figure size 432x288 with 1 Axes>"
            ]
          },
          "metadata": {},
          "output_type": "display_data"
        }
      ],
      "source": [
        "show_image(manufacturer_df, 1430, TARGET_NAME)"
      ]
    },
    {
      "cell_type": "markdown",
      "metadata": {
        "id": "XePafRw3jIl0"
      },
      "source": [
        "# Verify data"
      ]
    },
    {
      "cell_type": "code",
      "execution_count": null,
      "metadata": {
        "colab": {
          "base_uri": "https://localhost:8080/"
        },
        "id": "u2FKQtMuf277",
        "outputId": "e2e92a55-24a2-422e-d134-6ca0a0e06403"
      },
      "outputs": [
        {
          "data": {
            "text/plain": [
              "707-320        34\n",
              "Dornier 328    34\n",
              "A380           34\n",
              "An-12          34\n",
              "BAE-125        34\n",
              "               ..\n",
              "DHC-6          33\n",
              "757-200        33\n",
              "DHC-8-300      33\n",
              "DR-400         33\n",
              "Cessna 560     33\n",
              "Name: variant, Length: 100, dtype: int64"
            ]
          },
          "execution_count": 156,
          "metadata": {},
          "output_type": "execute_result"
        }
      ],
      "source": [
        "manufacturer_df[TARGET_NAME].value_counts(dropna=False)"
      ]
    },
    {
      "cell_type": "code",
      "execution_count": null,
      "metadata": {
        "id": "WjCLpiatiVgv"
      },
      "outputs": [],
      "source": [
        "assert manufacturer_df['image_id'].isna().sum() == 0, \"Missing values in image_id\"\n",
        "assert manufacturer_df[TARGET_NAME].isna().sum() == 0, \"Missing values in manufcaturer\""
      ]
    },
    {
      "cell_type": "markdown",
      "metadata": {
        "id": "9FbbLgnlSWRT"
      },
      "source": [
        "# Tenserflow"
      ]
    },
    {
      "cell_type": "code",
      "execution_count": null,
      "metadata": {
        "colab": {
          "base_uri": "https://localhost:8080/"
        },
        "id": "yLoCkQULiYQJ",
        "outputId": "d2d7775d-2fba-4656-853c-ea5a737fa17f"
      },
      "outputs": [
        {
          "data": {
            "text/plain": [
              "(3334, 3)"
            ]
          },
          "execution_count": 158,
          "metadata": {},
          "output_type": "execute_result"
        }
      ],
      "source": [
        "manufacturer_df.shape"
      ]
    },
    {
      "cell_type": "code",
      "execution_count": null,
      "metadata": {
        "colab": {
          "base_uri": "https://localhost:8080/",
          "height": 206
        },
        "id": "lhkybW5ajEfn",
        "outputId": "934846be-ce08-4181-c847-d9f3eb1dd959"
      },
      "outputs": [
        {
          "data": {
            "text/html": [
              "\n",
              "  <div id=\"df-feadf72b-fecc-47fb-9d10-c0b400320b88\">\n",
              "    <div class=\"colab-df-container\">\n",
              "      <div>\n",
              "<style scoped>\n",
              "    .dataframe tbody tr th:only-of-type {\n",
              "        vertical-align: middle;\n",
              "    }\n",
              "\n",
              "    .dataframe tbody tr th {\n",
              "        vertical-align: top;\n",
              "    }\n",
              "\n",
              "    .dataframe thead th {\n",
              "        text-align: right;\n",
              "    }\n",
              "</style>\n",
              "<table border=\"1\" class=\"dataframe\">\n",
              "  <thead>\n",
              "    <tr style=\"text-align: right;\">\n",
              "      <th></th>\n",
              "      <th>image_id</th>\n",
              "      <th>variant</th>\n",
              "      <th>path</th>\n",
              "    </tr>\n",
              "  </thead>\n",
              "  <tbody>\n",
              "    <tr>\n",
              "      <th>0</th>\n",
              "      <td>1025794</td>\n",
              "      <td>707-320</td>\n",
              "      <td>dataset/data/images/1025794.jpg</td>\n",
              "    </tr>\n",
              "    <tr>\n",
              "      <th>1</th>\n",
              "      <td>1340192</td>\n",
              "      <td>707-320</td>\n",
              "      <td>dataset/data/images/1340192.jpg</td>\n",
              "    </tr>\n",
              "    <tr>\n",
              "      <th>2</th>\n",
              "      <td>0056978</td>\n",
              "      <td>707-320</td>\n",
              "      <td>dataset/data/images/0056978.jpg</td>\n",
              "    </tr>\n",
              "    <tr>\n",
              "      <th>3</th>\n",
              "      <td>0698580</td>\n",
              "      <td>707-320</td>\n",
              "      <td>dataset/data/images/0698580.jpg</td>\n",
              "    </tr>\n",
              "    <tr>\n",
              "      <th>4</th>\n",
              "      <td>0450014</td>\n",
              "      <td>707-320</td>\n",
              "      <td>dataset/data/images/0450014.jpg</td>\n",
              "    </tr>\n",
              "  </tbody>\n",
              "</table>\n",
              "</div>\n",
              "      <button class=\"colab-df-convert\" onclick=\"convertToInteractive('df-feadf72b-fecc-47fb-9d10-c0b400320b88')\"\n",
              "              title=\"Convert this dataframe to an interactive table.\"\n",
              "              style=\"display:none;\">\n",
              "        \n",
              "  <svg xmlns=\"http://www.w3.org/2000/svg\" height=\"24px\"viewBox=\"0 0 24 24\"\n",
              "       width=\"24px\">\n",
              "    <path d=\"M0 0h24v24H0V0z\" fill=\"none\"/>\n",
              "    <path d=\"M18.56 5.44l.94 2.06.94-2.06 2.06-.94-2.06-.94-.94-2.06-.94 2.06-2.06.94zm-11 1L8.5 8.5l.94-2.06 2.06-.94-2.06-.94L8.5 2.5l-.94 2.06-2.06.94zm10 10l.94 2.06.94-2.06 2.06-.94-2.06-.94-.94-2.06-.94 2.06-2.06.94z\"/><path d=\"M17.41 7.96l-1.37-1.37c-.4-.4-.92-.59-1.43-.59-.52 0-1.04.2-1.43.59L10.3 9.45l-7.72 7.72c-.78.78-.78 2.05 0 2.83L4 21.41c.39.39.9.59 1.41.59.51 0 1.02-.2 1.41-.59l7.78-7.78 2.81-2.81c.8-.78.8-2.07 0-2.86zM5.41 20L4 18.59l7.72-7.72 1.47 1.35L5.41 20z\"/>\n",
              "  </svg>\n",
              "      </button>\n",
              "      \n",
              "  <style>\n",
              "    .colab-df-container {\n",
              "      display:flex;\n",
              "      flex-wrap:wrap;\n",
              "      gap: 12px;\n",
              "    }\n",
              "\n",
              "    .colab-df-convert {\n",
              "      background-color: #E8F0FE;\n",
              "      border: none;\n",
              "      border-radius: 50%;\n",
              "      cursor: pointer;\n",
              "      display: none;\n",
              "      fill: #1967D2;\n",
              "      height: 32px;\n",
              "      padding: 0 0 0 0;\n",
              "      width: 32px;\n",
              "    }\n",
              "\n",
              "    .colab-df-convert:hover {\n",
              "      background-color: #E2EBFA;\n",
              "      box-shadow: 0px 1px 2px rgba(60, 64, 67, 0.3), 0px 1px 3px 1px rgba(60, 64, 67, 0.15);\n",
              "      fill: #174EA6;\n",
              "    }\n",
              "\n",
              "    [theme=dark] .colab-df-convert {\n",
              "      background-color: #3B4455;\n",
              "      fill: #D2E3FC;\n",
              "    }\n",
              "\n",
              "    [theme=dark] .colab-df-convert:hover {\n",
              "      background-color: #434B5C;\n",
              "      box-shadow: 0px 1px 3px 1px rgba(0, 0, 0, 0.15);\n",
              "      filter: drop-shadow(0px 1px 2px rgba(0, 0, 0, 0.3));\n",
              "      fill: #FFFFFF;\n",
              "    }\n",
              "  </style>\n",
              "\n",
              "      <script>\n",
              "        const buttonEl =\n",
              "          document.querySelector('#df-feadf72b-fecc-47fb-9d10-c0b400320b88 button.colab-df-convert');\n",
              "        buttonEl.style.display =\n",
              "          google.colab.kernel.accessAllowed ? 'block' : 'none';\n",
              "\n",
              "        async function convertToInteractive(key) {\n",
              "          const element = document.querySelector('#df-feadf72b-fecc-47fb-9d10-c0b400320b88');\n",
              "          const dataTable =\n",
              "            await google.colab.kernel.invokeFunction('convertToInteractive',\n",
              "                                                     [key], {});\n",
              "          if (!dataTable) return;\n",
              "\n",
              "          const docLinkHtml = 'Like what you see? Visit the ' +\n",
              "            '<a target=\"_blank\" href=https://colab.research.google.com/notebooks/data_table.ipynb>data table notebook</a>'\n",
              "            + ' to learn more about interactive tables.';\n",
              "          element.innerHTML = '';\n",
              "          dataTable['output_type'] = 'display_data';\n",
              "          await google.colab.output.renderOutput(dataTable, element);\n",
              "          const docLink = document.createElement('div');\n",
              "          docLink.innerHTML = docLinkHtml;\n",
              "          element.appendChild(docLink);\n",
              "        }\n",
              "      </script>\n",
              "    </div>\n",
              "  </div>\n",
              "  "
            ],
            "text/plain": [
              "  image_id  variant                             path\n",
              "0  1025794  707-320  dataset/data/images/1025794.jpg\n",
              "1  1340192  707-320  dataset/data/images/1340192.jpg\n",
              "2  0056978  707-320  dataset/data/images/0056978.jpg\n",
              "3  0698580  707-320  dataset/data/images/0698580.jpg\n",
              "4  0450014  707-320  dataset/data/images/0450014.jpg"
            ]
          },
          "execution_count": 159,
          "metadata": {},
          "output_type": "execute_result"
        }
      ],
      "source": [
        "manufacturer_df.head()"
      ]
    },
    {
      "cell_type": "code",
      "execution_count": null,
      "metadata": {
        "colab": {
          "base_uri": "https://localhost:8080/",
          "height": 286
        },
        "id": "gKSnAACEkJBR",
        "outputId": "4d14290f-b5bf-4198-a89d-3d1395b1697a"
      },
      "outputs": [
        {
          "name": "stdout",
          "output_type": "stream",
          "text": [
            "707-320\n"
          ]
        },
        {
          "data": {
            "image/png": "[encoded data removed]",
            "text/plain": [
              "<Figure size 432x288 with 1 Axes>"
            ]
          },
          "metadata": {},
          "output_type": "display_data"
        }
      ],
      "source": [
        "show_image(manufacturer_df, 0, TARGET_NAME)"
      ]
    },
    {
      "cell_type": "code",
      "execution_count": null,
      "metadata": {
        "id": "6yhk-0yVklac"
      },
      "outputs": [],
      "source": [
        "manufacturer_df['shape'] = manufacturer_df['path'].apply(lambda p: plt.imread(p).shape)"
      ]
    },
    {
      "cell_type": "code",
      "execution_count": null,
      "metadata": {
        "colab": {
          "base_uri": "https://localhost:8080/"
        },
        "id": "Az2EtFnEmyzp",
        "outputId": "02a86289-b97e-45dd-bf51-8a2b22786f3a"
      },
      "outputs": [
        {
          "data": {
            "text/plain": [
              "1024    1399\n",
              "1200     618\n",
              "1000     492\n",
              "1600     145\n",
              "1050     105\n",
              "        ... \n",
              "1375       1\n",
              "993        1\n",
              "941        1\n",
              "1013       1\n",
              "995        1\n",
              "Name: shape, Length: 73, dtype: int64"
            ]
          },
          "execution_count": 162,
          "metadata": {},
          "output_type": "execute_result"
        }
      ],
      "source": [
        "# Distribution du nombre de colonnes\n",
        "manufacturer_df['shape'].apply(lambda x: x[1]).value_counts()"
      ]
    },
    {
      "cell_type": "code",
      "execution_count": null,
      "metadata": {
        "id": "qERBHAemoWse"
      },
      "outputs": [],
      "source": [
        "def load_resize_image(path, height, width):\n",
        "  \"\"\"Load an image and resize it to the target size.\n",
        "\n",
        "  Parameters\n",
        "  ----------\n",
        "  path (Path): access path to image file\n",
        "  height (int): resize image to this height\n",
        "  width (int): resize image to this width\n",
        "  \n",
        "  Returns\n",
        "  -------\n",
        "  np.array containing resized image \n",
        "  option flatten to use only 2-Dimension\n",
        "  \"\"\"\n",
        "  return np.array(Image.open(path).resize((width, height))).flatten()"
      ]
    },
    {
      "cell_type": "code",
      "execution_count": null,
      "metadata": {
        "id": "a2eEn0asqhTn"
      },
      "outputs": [],
      "source": [
        "manufacturer_df['resized_image'] = manufacturer_df.apply(lambda r: load_resize_image(r['path'], IMAGE_HEIGHT, IMAGE_WIDTH), axis=1)"
      ]
    },
    {
      "cell_type": "code",
      "execution_count": null,
      "metadata": {
        "colab": {
          "base_uri": "https://localhost:8080/"
        },
        "id": "uDzE0agY-gGk",
        "outputId": "594d43db-bb37-44b1-ddd4-9f00d497e9dc"
      },
      "outputs": [
        {
          "data": {
            "text/plain": [
              "70"
            ]
          },
          "execution_count": 138,
          "metadata": {},
          "output_type": "execute_result"
        }
      ],
      "source": [
        "# Calcul du nombre de classes pour dimensionner la couche de sortie\n",
        "nb_classes = manufacturer_df[TARGET_NAME].nunique()\n",
        "nb_classes"
      ]
    },
    {
      "cell_type": "markdown",
      "metadata": {
        "id": "hc4ahTbEEf0n"
      },
      "source": [
        "# Build train & test set"
      ]
    },
    {
      "cell_type": "code",
      "execution_count": null,
      "metadata": {
        "id": "NMbuyj6Ph7em"
      },
      "outputs": [],
      "source": [
        "def build_x_and_y(df : pd.DataFrame, target : str, images : str):\n",
        "  \"\"\"Build x tensor and y tensor for model fitting. \n",
        "\n",
        "  Parameters\n",
        "  -----------\n",
        "  df (pd.DataFrame) : dataframe containing images and target \n",
        "  target (str) : name of target column\n",
        "  images (str) : name of images column\n",
        "\n",
        "  Returns\n",
        "  ---------\n",
        "  x (np.array) : tensor for x values \n",
        "  y (np.array) : tensor for y valuess\n",
        "  \"\"\"\n",
        "\n",
        "  x = np.array(df[images].to_list())\n",
        "  y = df[target].astype('category').cat.codes\n",
        "  return x, y"
      ]
    },
    {
      "cell_type": "code",
      "execution_count": null,
      "metadata": {
        "id": "sRei33Yhka3c"
      },
      "outputs": [],
      "source": [
        "# Load train & test dataset\n",
        "train_df = build_image_database(DATA_DIR / 'images_{}_train.txt'.format(TARGET_NAME), TARGET_NAME)\n",
        "test_df = build_image_database(DATA_DIR / 'images_{}_test.txt'.format(TARGET_NAME), TARGET_NAME)\n",
        "\n",
        "# Load & resize images\n",
        "train_df['resized_images'] = train_df.apply(lambda r: load_resize_image(r['path'], IMAGE_HEIGHT, IMAGE_WIDTH), axis=1)\n",
        "test_df['resized_images'] = test_df.apply(lambda r: load_resize_image(r['path'], IMAGE_HEIGHT, IMAGE_WIDTH), axis=1)\n",
        "\n",
        "# Build tensors for training & testing\n",
        "X_train, y_train = build_x_and_y(train_df.sample(300), TARGET_NAME, 'resized_images')\n",
        "X_test, y_test = build_x_and_y(test_df.sample(100), TARGET_NAME, 'resized_images')\n",
        "\n",
        "#Build SVM model  \n",
        "clf = make_pipeline(StandardScaler(),LinearSVC(random_state=0, tol=1e-5))\n",
        "#model = clf.fit(X_train,y_train)"
      ]
    },
    {
      "cell_type": "code",
      "execution_count": null,
      "metadata": {
        "colab": {
          "base_uri": "https://localhost:8080/"
        },
        "id": "NRlNkzGVDbIl",
        "outputId": "c8472b61-a423-489b-f10e-569af956ba52"
      },
      "outputs": [
        {
          "name": "stdout",
          "output_type": "stream",
          "text": [
            "Running on TPU  ['10.93.164.242:8470']\n",
            "INFO:tensorflow:Deallocate tpu buffers before initializing tpu system.\n"
          ]
        },
        {
          "name": "stderr",
          "output_type": "stream",
          "text": [
            "INFO:tensorflow:Deallocate tpu buffers before initializing tpu system.\n"
          ]
        },
        {
          "name": "stdout",
          "output_type": "stream",
          "text": [
            "WARNING:tensorflow:TPU system grpc://10.93.164.242:8470 has already been initialized. Reinitializing the TPU can cause previously created variables on TPU to be lost.\n"
          ]
        },
        {
          "name": "stderr",
          "output_type": "stream",
          "text": [
            "WARNING:tensorflow:TPU system grpc://10.93.164.242:8470 has already been initialized. Reinitializing the TPU can cause previously created variables on TPU to be lost.\n"
          ]
        },
        {
          "name": "stdout",
          "output_type": "stream",
          "text": [
            "INFO:tensorflow:Initializing the TPU system: grpc://10.93.164.242:8470\n"
          ]
        },
        {
          "name": "stderr",
          "output_type": "stream",
          "text": [
            "INFO:tensorflow:Initializing the TPU system: grpc://10.93.164.242:8470\n"
          ]
        },
        {
          "name": "stdout",
          "output_type": "stream",
          "text": [
            "INFO:tensorflow:Finished initializing TPU system.\n"
          ]
        },
        {
          "name": "stderr",
          "output_type": "stream",
          "text": [
            "INFO:tensorflow:Finished initializing TPU system.\n",
            "WARNING:absl:`tf.distribute.experimental.TPUStrategy` is deprecated, please use  the non experimental symbol `tf.distribute.TPUStrategy` instead.\n"
          ]
        },
        {
          "name": "stdout",
          "output_type": "stream",
          "text": [
            "INFO:tensorflow:Found TPU system:\n"
          ]
        },
        {
          "name": "stderr",
          "output_type": "stream",
          "text": [
            "INFO:tensorflow:Found TPU system:\n"
          ]
        },
        {
          "name": "stdout",
          "output_type": "stream",
          "text": [
            "INFO:tensorflow:*** Num TPU Cores: 8\n"
          ]
        },
        {
          "name": "stderr",
          "output_type": "stream",
          "text": [
            "INFO:tensorflow:*** Num TPU Cores: 8\n"
          ]
        },
        {
          "name": "stdout",
          "output_type": "stream",
          "text": [
            "INFO:tensorflow:*** Num TPU Workers: 1\n"
          ]
        },
        {
          "name": "stderr",
          "output_type": "stream",
          "text": [
            "INFO:tensorflow:*** Num TPU Workers: 1\n"
          ]
        },
        {
          "name": "stdout",
          "output_type": "stream",
          "text": [
            "INFO:tensorflow:*** Num TPU Cores Per Worker: 8\n"
          ]
        },
        {
          "name": "stderr",
          "output_type": "stream",
          "text": [
            "INFO:tensorflow:*** Num TPU Cores Per Worker: 8\n"
          ]
        },
        {
          "name": "stdout",
          "output_type": "stream",
          "text": [
            "INFO:tensorflow:*** Available Device: _DeviceAttributes(/job:localhost/replica:0/task:0/device:CPU:0, CPU, 0, 0)\n"
          ]
        },
        {
          "name": "stderr",
          "output_type": "stream",
          "text": [
            "INFO:tensorflow:*** Available Device: _DeviceAttributes(/job:localhost/replica:0/task:0/device:CPU:0, CPU, 0, 0)\n"
          ]
        },
        {
          "name": "stdout",
          "output_type": "stream",
          "text": [
            "INFO:tensorflow:*** Available Device: _DeviceAttributes(/job:worker/replica:0/task:0/device:CPU:0, CPU, 0, 0)\n"
          ]
        },
        {
          "name": "stderr",
          "output_type": "stream",
          "text": [
            "INFO:tensorflow:*** Available Device: _DeviceAttributes(/job:worker/replica:0/task:0/device:CPU:0, CPU, 0, 0)\n"
          ]
        },
        {
          "name": "stdout",
          "output_type": "stream",
          "text": [
            "INFO:tensorflow:*** Available Device: _DeviceAttributes(/job:worker/replica:0/task:0/device:TPU:0, TPU, 0, 0)\n"
          ]
        },
        {
          "name": "stderr",
          "output_type": "stream",
          "text": [
            "INFO:tensorflow:*** Available Device: _DeviceAttributes(/job:worker/replica:0/task:0/device:TPU:0, TPU, 0, 0)\n"
          ]
        },
        {
          "name": "stdout",
          "output_type": "stream",
          "text": [
            "INFO:tensorflow:*** Available Device: _DeviceAttributes(/job:worker/replica:0/task:0/device:TPU:1, TPU, 0, 0)\n"
          ]
        },
        {
          "name": "stderr",
          "output_type": "stream",
          "text": [
            "INFO:tensorflow:*** Available Device: _DeviceAttributes(/job:worker/replica:0/task:0/device:TPU:1, TPU, 0, 0)\n"
          ]
        },
        {
          "name": "stdout",
          "output_type": "stream",
          "text": [
            "INFO:tensorflow:*** Available Device: _DeviceAttributes(/job:worker/replica:0/task:0/device:TPU:2, TPU, 0, 0)\n"
          ]
        },
        {
          "name": "stderr",
          "output_type": "stream",
          "text": [
            "INFO:tensorflow:*** Available Device: _DeviceAttributes(/job:worker/replica:0/task:0/device:TPU:2, TPU, 0, 0)\n"
          ]
        },
        {
          "name": "stdout",
          "output_type": "stream",
          "text": [
            "INFO:tensorflow:*** Available Device: _DeviceAttributes(/job:worker/replica:0/task:0/device:TPU:3, TPU, 0, 0)\n"
          ]
        },
        {
          "name": "stderr",
          "output_type": "stream",
          "text": [
            "INFO:tensorflow:*** Available Device: _DeviceAttributes(/job:worker/replica:0/task:0/device:TPU:3, TPU, 0, 0)\n"
          ]
        },
        {
          "name": "stdout",
          "output_type": "stream",
          "text": [
            "INFO:tensorflow:*** Available Device: _DeviceAttributes(/job:worker/replica:0/task:0/device:TPU:4, TPU, 0, 0)\n"
          ]
        },
        {
          "name": "stderr",
          "output_type": "stream",
          "text": [
            "INFO:tensorflow:*** Available Device: _DeviceAttributes(/job:worker/replica:0/task:0/device:TPU:4, TPU, 0, 0)\n"
          ]
        },
        {
          "name": "stdout",
          "output_type": "stream",
          "text": [
            "INFO:tensorflow:*** Available Device: _DeviceAttributes(/job:worker/replica:0/task:0/device:TPU:5, TPU, 0, 0)\n"
          ]
        },
        {
          "name": "stderr",
          "output_type": "stream",
          "text": [
            "INFO:tensorflow:*** Available Device: _DeviceAttributes(/job:worker/replica:0/task:0/device:TPU:5, TPU, 0, 0)\n"
          ]
        },
        {
          "name": "stdout",
          "output_type": "stream",
          "text": [
            "INFO:tensorflow:*** Available Device: _DeviceAttributes(/job:worker/replica:0/task:0/device:TPU:6, TPU, 0, 0)\n"
          ]
        },
        {
          "name": "stderr",
          "output_type": "stream",
          "text": [
            "INFO:tensorflow:*** Available Device: _DeviceAttributes(/job:worker/replica:0/task:0/device:TPU:6, TPU, 0, 0)\n"
          ]
        },
        {
          "name": "stdout",
          "output_type": "stream",
          "text": [
            "INFO:tensorflow:*** Available Device: _DeviceAttributes(/job:worker/replica:0/task:0/device:TPU:7, TPU, 0, 0)\n"
          ]
        },
        {
          "name": "stderr",
          "output_type": "stream",
          "text": [
            "INFO:tensorflow:*** Available Device: _DeviceAttributes(/job:worker/replica:0/task:0/device:TPU:7, TPU, 0, 0)\n"
          ]
        },
        {
          "name": "stdout",
          "output_type": "stream",
          "text": [
            "INFO:tensorflow:*** Available Device: _DeviceAttributes(/job:worker/replica:0/task:0/device:TPU_SYSTEM:0, TPU_SYSTEM, 0, 0)\n"
          ]
        },
        {
          "name": "stderr",
          "output_type": "stream",
          "text": [
            "INFO:tensorflow:*** Available Device: _DeviceAttributes(/job:worker/replica:0/task:0/device:TPU_SYSTEM:0, TPU_SYSTEM, 0, 0)\n"
          ]
        },
        {
          "name": "stdout",
          "output_type": "stream",
          "text": [
            "INFO:tensorflow:*** Available Device: _DeviceAttributes(/job:worker/replica:0/task:0/device:XLA_CPU:0, XLA_CPU, 0, 0)\n"
          ]
        },
        {
          "name": "stderr",
          "output_type": "stream",
          "text": [
            "INFO:tensorflow:*** Available Device: _DeviceAttributes(/job:worker/replica:0/task:0/device:XLA_CPU:0, XLA_CPU, 0, 0)\n"
          ]
        }
      ],
      "source": [
        "# A faire une fois pour récupérer les informations sur la TPU\n",
        "try:\n",
        "  tpu = tf.distribute.cluster_resolver.TPUClusterResolver()  # TPU detection\n",
        "  print('Running on TPU ', tpu.cluster_spec().as_dict()['worker'])\n",
        "except ValueError:\n",
        "  raise BaseException('ERROR: Not connected to a TPU runtime; please see the previous cell in this notebook for instructions!')\n",
        "\n",
        "tf.config.experimental_connect_to_cluster(tpu)\n",
        "tf.tpu.experimental.initialize_tpu_system(tpu)\n",
        "tpu_strategy = tf.distribute.experimental.TPUStrategy(tpu)"
      ]
    },
    {
      "cell_type": "code",
      "execution_count": null,
      "metadata": {
        "colab": {
          "background_save": true
        },
        "id": "vuc_CvHZGfJc"
      },
      "outputs": [],
      "source": [
        "with tpu_strategy.scope():\n",
        "  model = clf.fit(X_train,y_train)"
      ]
    },
    {
      "cell_type": "code",
      "execution_count": null,
      "metadata": {
        "colab": {
          "base_uri": "https://localhost:8080/"
        },
        "id": "YrcQbkj_uhaC",
        "outputId": "8849b26c-facc-430f-f94a-c5bb80a02f30"
      },
      "outputs": [
        {
          "data": {
            "text/plain": [
              "Index(['A300', 'A310', 'A320', 'A330', 'A340', 'A380', 'ATR-42', 'ATR-72',\n",
              "       'An-12', 'BAE 146', 'BAE-125', 'Beechcraft 1900', 'Boeing 707',\n",
              "       'Boeing 717', 'Boeing 727', 'Boeing 737', 'Boeing 747', 'Boeing 757',\n",
              "       'Boeing 767', 'Boeing 777', 'C-130', 'C-47', 'CRJ-200', 'CRJ-700',\n",
              "       'Cessna 172', 'Cessna 208', 'Cessna Citation', 'Challenger 600',\n",
              "       'DC-10', 'DC-3', 'DC-6', 'DC-8', 'DC-9', 'DH-82', 'DHC-1', 'DHC-6',\n",
              "       'DR-400', 'Dash 8', 'Dornier 328', 'EMB-120', 'Embraer E-Jet',\n",
              "       'Embraer ERJ 145', 'Embraer Legacy 600', 'Eurofighter Typhoon', 'F-16',\n",
              "       'F/A-18', 'Falcon 2000', 'Falcon 900', 'Fokker 100', 'Fokker 50',\n",
              "       'Fokker 70', 'Global Express', 'Gulfstream', 'Hawk T1', 'Il-76',\n",
              "       'King Air', 'L-1011', 'MD-11', 'MD-80', 'MD-90', 'Metroliner', 'PA-28',\n",
              "       'SR-20', 'Saab 2000', 'Saab 340', 'Spitfire', 'Tornado', 'Tu-134',\n",
              "       'Tu-154', 'Yak-42'],\n",
              "      dtype='object')"
            ]
          },
          "execution_count": 143,
          "metadata": {},
          "output_type": "execute_result"
        }
      ],
      "source": [
        "train_df[TARGET_NAME].astype('category').cat.categories"
      ]
    },
    {
      "cell_type": "code",
      "execution_count": null,
      "metadata": {
        "colab": {
          "base_uri": "https://localhost:8080/"
        },
        "id": "8OagHxO51R3Q",
        "outputId": "c2f49e8b-feeb-47e7-fed6-504d0baebacc"
      },
      "outputs": [
        {
          "name": "stdout",
          "output_type": "stream",
          "text": [
            "Writing cat.yaml\n"
          ]
        }
      ],
      "source": [
        "%%writefile cat.yaml\n",
        "\n",
        "---\n",
        "categories_family : ['A300', 'A310', 'A320', 'A330', 'A340', 'A380', 'ATR-42', 'ATR-72',\n",
        "       'An-12', 'BAE 146', 'BAE-125', 'Beechcraft 1900', 'Boeing 707',\n",
        "       'Boeing 717', 'Boeing 727', 'Boeing 737', 'Boeing 747', 'Boeing 757',\n",
        "       'Boeing 767', 'Boeing 777', 'C-130', 'C-47', 'CRJ-200', 'CRJ-700',\n",
        "       'Cessna 172', 'Cessna 208', 'Cessna Citation', 'Challenger 600',\n",
        "       'DC-10', 'DC-3', 'DC-6', 'DC-8', 'DC-9', 'DH-82', 'DHC-1', 'DHC-6',\n",
        "       'DR-400', 'Dash 8', 'Dornier 328', 'EMB-120', 'Embraer E-Jet',\n",
        "       'Embraer ERJ 145', 'Embraer Legacy 600', 'Eurofighter Typhoon', 'F-16',\n",
        "       'F/A-18', 'Falcon 2000', 'Falcon 900', 'Fokker 100', 'Fokker 50',\n",
        "       'Fokker 70', 'Global Express', 'Gulfstream', 'Hawk T1', 'Il-76',\n",
        "       'King Air', 'L-1011', 'MD-11', 'MD-80', 'MD-90', 'Metroliner', 'PA-28',\n",
        "       'SR-20', 'Saab 2000', 'Saab 340', 'Spitfire', 'Tornado', 'Tu-134',\n",
        "       'Tu-154', 'Yak-42']\n",
        "\n",
        "categories_manufacturer : ['ATR', 'Airbus', 'Antonov', 'Beechcraft', 'Boeing',\n",
        "       'Bombardier Aerospace', 'British Aerospace', 'Canadair', 'Cessna',\n",
        "       'Cirrus Aircraft', 'Dassault Aviation', 'Dornier',\n",
        "       'Douglas Aircraft Company', 'Embraer', 'Eurofighter', 'Fairchild',\n",
        "       'Fokker', 'Gulfstream Aerospace', 'Ilyushin', 'Lockheed Corporation',\n",
        "       'Lockheed Martin', 'McDonnell Douglas', 'Panavia', 'Piper', 'Robin',\n",
        "       'Saab', 'Supermarine', 'Tupolev', 'Yakovlev', 'de Havilland']"
      ]
    },
    {
      "cell_type": "code",
      "execution_count": null,
      "metadata": {
        "id": "GWSSuvnKzH87"
      },
      "outputs": [],
      "source": [
        "with open('cat.yaml') as f:\n",
        "  data = yaml.load(f, Loader=SafeLoader)\n",
        "  print(data)"
      ]
    },
    {
      "cell_type": "code",
      "execution_count": null,
      "metadata": {
        "id": "KT8XUxuheNjv"
      },
      "outputs": [],
      "source": [
        "def classify_images(images, model,classes_names=None):\n",
        "  \"\"\"Classify images through a TF model.\n",
        "\n",
        "  Parameters\n",
        "  ----------\n",
        "  images (np.array): set of images to classify\n",
        "  model (tf.keras.Model): TF/Keras model\n",
        "  classes_names : dictionary with names of classes\n",
        "\n",
        "  Returns\n",
        "  --------\n",
        "  predicted classes\n",
        "  \"\"\"\n",
        "\n",
        "  results = model.predict(images)\n",
        "  classes = np.argmax(results, axis=0) # np.argmax is computed row by row\n",
        "  if classes_names is not None:\n",
        "    classes = np.array(classes_names[classes])\n",
        "  return classes"
      ]
    },
    {
      "cell_type": "code",
      "execution_count": null,
      "metadata": {
        "colab": {
          "base_uri": "https://localhost:8080/"
        },
        "id": "eX3uKZ5DIum6",
        "outputId": "902b575a-27a3-4087-8c4a-320246b35c28"
      },
      "outputs": [
        {
          "data": {
            "text/plain": [
              "89"
            ]
          },
          "execution_count": 145,
          "metadata": {},
          "output_type": "execute_result"
        }
      ],
      "source": [
        "classify_images(X_test, model)"
      ]
    },
    {
      "cell_type": "code",
      "execution_count": null,
      "metadata": {
        "colab": {
          "base_uri": "https://localhost:8080/"
        },
        "id": "-8eyoZHA7nY2",
        "outputId": "3c366309-33cd-42e1-ec04-e4c9184363e8"
      },
      "outputs": [
        {
          "data": {
            "text/plain": [
              "array([[0, 0, 0, ..., 0, 0, 0],\n",
              "       [0, 0, 0, ..., 0, 0, 0],\n",
              "       [0, 0, 2, ..., 0, 0, 0],\n",
              "       ...,\n",
              "       [0, 0, 0, ..., 0, 0, 0],\n",
              "       [0, 0, 0, ..., 0, 0, 0],\n",
              "       [0, 0, 0, ..., 0, 0, 0]])"
            ]
          },
          "execution_count": 146,
          "metadata": {},
          "output_type": "execute_result"
        }
      ],
      "source": [
        "from sklearn.metrics import confusion_matrix\n",
        "confusion_matrix(y_test, model.predict(X_test))"
      ]
    },
    {
      "cell_type": "code",
      "execution_count": null,
      "metadata": {
        "id": "tG14ENX413cA"
      },
      "outputs": [],
      "source": [
        "import datetime\n",
        "\n",
        "def save_model(model,predictor):\n",
        "  \"\"\"Save sklearn model.\n",
        "\n",
        "  Model file is named model.\n",
        "\n",
        "  Parameters\n",
        "  ----------\n",
        "  model (sklearn model): model to be saved\n",
        "  basename: location to save model file\n",
        "  \"\"\"\n",
        "  pickle.dump(model, open('{}_{}.sav'.format(predictor, TARGET_NAME), 'wb'))\n",
        "  return"
      ]
    },
    {
      "cell_type": "code",
      "execution_count": null,
      "metadata": {
        "id": "J6gZFPtq2n-U"
      },
      "outputs": [],
      "source": [
        "save_model(model,'SVM')"
      ]
    }
  ],
  "metadata": {
    "accelerator": "TPU",
    "colab": {
      "collapsed_sections": [
        "Bh_Ef4ZA7b4y"
      ],
      "name": "train_classification_model_SVM.ipynb",
      "provenance": [],
      "include_colab_link": true
    },
    "kernelspec": {
      "display_name": "Python 3",
      "name": "python3"
    },
    "language_info": {
      "name": "python"
    }
  },
  "nbformat": 4,
  "nbformat_minor": 0
}