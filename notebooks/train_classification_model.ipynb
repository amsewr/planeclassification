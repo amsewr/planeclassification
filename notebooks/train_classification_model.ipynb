{
  "nbformat": 4,
  "nbformat_minor": 0,
  "metadata": {
    "colab": {
      "name": "train_classification_model.ipynb",
      "provenance": [],
      "toc_visible": true,
      "authorship_tag": "ABX9TyMFbrnuxJewgi8TQIIk4S6O",
      "include_colab_link": true
    },
    "kernelspec": {
      "name": "python3",
      "display_name": "Python 3"
    },
    "language_info": {
      "name": "python"
    }
  },
  "cells": [
    {
      "cell_type": "markdown",
      "metadata": {
        "id": "view-in-github",
        "colab_type": "text"
      },
      "source": [
        "<a href=\"https://colab.research.google.com/github/amsewr/planeclassification/blob/main/notebooks/train_classification_model.ipynb\" target=\"_parent\"><img src=\"https://colab.research.google.com/assets/colab-badge.svg\" alt=\"Open In Colab\"/></a>"
      ]
    },
    {
      "cell_type": "markdown",
      "source": [
        "# Load data"
      ],
      "metadata": {
        "id": "SBKnQqP6jMEa"
      }
    },
    {
      "cell_type": "code",
      "execution_count": 1,
      "metadata": {
        "colab": {
          "base_uri": "https://localhost:8080/"
        },
        "id": "UoEZDfmNYuZn",
        "outputId": "8e97dd03-59a1-4ee6-8781-cc89b9afde5e"
      },
      "outputs": [
        {
          "output_type": "stream",
          "name": "stdout",
          "text": [
            "  % Total    % Received % Xferd  Average Speed   Time    Time     Time  Current\n",
            "                                 Dload  Upload   Total   Spent    Left  Speed\n",
            "100 2625M  100 2625M    0     0  8817k      0  0:05:04  0:05:04 --:--:-- 9058k\n"
          ]
        }
      ],
      "source": [
        "!curl -O https://www.robots.ox.ac.uk/~vgg/data/fgvc-aircraft/archives/fgvc-aircraft-2013b.tar.gz\n",
        "!tar zxf fgvc-aircraft-2013b.tar.gz\n",
        "!mv fgvc-aircraft-2013b/ dataset "
      ]
    },
    {
      "cell_type": "code",
      "source": [
        "import pandas as pd"
      ],
      "metadata": {
        "id": "qiHphoROZYA7"
      },
      "execution_count": 2,
      "outputs": []
    },
    {
      "cell_type": "code",
      "source": [
        "import pathlib "
      ],
      "metadata": {
        "id": "ZT7-nBYMawg4"
      },
      "execution_count": 3,
      "outputs": []
    },
    {
      "cell_type": "code",
      "source": [
        "DATA_DIR = pathlib.Path('dataset/data')"
      ],
      "metadata": {
        "id": "FCzgqmyxbhWD"
      },
      "execution_count": 5,
      "outputs": []
    },
    {
      "cell_type": "code",
      "source": [
        "manufacturer_df =pd.read_csv(DATA_DIR / 'images_manufacturer_train.txt', sep='\\t'\n",
        "                , names=['all']\n",
        "                , dtype ={'all':str} # id are string not int\n",
        "                )\n",
        "\n",
        "#split donne une chaine de caractères\n",
        "manufacturer_df['image_id'] = manufacturer_df['all'].apply(lambda x: x.split(' ')[0])\n",
        "\n",
        "#'<car>'.join(liste) concatène les éléments de la liste avec le séparateur '<car>'\n",
        "manufacturer_df['manufacturer'] = manufacturer_df['all'].apply(lambda x: ' '.join(x.split(' ')[1:]))\n",
        "manufacturer_df['manufacturer'].unique()"
      ],
      "metadata": {
        "colab": {
          "base_uri": "https://localhost:8080/"
        },
        "id": "4zejENS4laee",
        "outputId": "ea415b2f-05a9-463f-cca3-e1600f5d359b"
      },
      "execution_count": 27,
      "outputs": [
        {
          "output_type": "execute_result",
          "data": {
            "text/plain": [
              "array(['Boeing', 'Airbus', 'ATR', 'Antonov', 'British Aerospace',\n",
              "       'Beechcraft', 'Lockheed Corporation', 'Douglas Aircraft Company',\n",
              "       'Canadair', 'Cessna', 'McDonnell Douglas', 'de Havilland', 'Robin',\n",
              "       'Dornier', 'Embraer', 'Eurofighter', 'Lockheed Martin',\n",
              "       'Dassault Aviation', 'Fokker', 'Bombardier Aerospace',\n",
              "       'Gulfstream Aerospace', 'Ilyushin', 'Fairchild', 'Piper',\n",
              "       'Cirrus Aircraft', 'Saab', 'Supermarine', 'Panavia', 'Tupolev',\n",
              "       'Yakovlev'], dtype=object)"
            ]
          },
          "metadata": {},
          "execution_count": 27
        }
      ]
    },
    {
      "cell_type": "markdown",
      "source": [
        "# Verify data"
      ],
      "metadata": {
        "id": "XePafRw3jIl0"
      }
    },
    {
      "cell_type": "code",
      "source": [
        "# verif si \",\" dans le fichier\n",
        "! grep ',' dataset/data/images_manufacturer_train.txt"
      ],
      "metadata": {
        "id": "nFLMLOXzoil0"
      },
      "execution_count": 30,
      "outputs": []
    },
    {
      "cell_type": "code",
      "source": [
        "# rehcerche de T et affichage de 3 lignes\n",
        "! grep 'T' dataset/data/images_manufacturer_train.txt | head -3"
      ],
      "metadata": {
        "colab": {
          "base_uri": "https://localhost:8080/"
        },
        "id": "Es_YJlO_ortz",
        "outputId": "099d16cc-9a2a-4e45-fc9f-d9b7637c39cb"
      },
      "execution_count": 35,
      "outputs": [
        {
          "output_type": "stream",
          "name": "stdout",
          "text": [
            "0724121 ATR\n",
            "0619697 ATR\n",
            "2243949 ATR\n"
          ]
        }
      ]
    },
    {
      "cell_type": "code",
      "source": [
        "# compter les éléments (ligne, caractère, word)\n",
        "! grep 'T' dataset/data/images_manufacturer_train.txt | wc "
      ],
      "metadata": {
        "colab": {
          "base_uri": "https://localhost:8080/"
        },
        "id": "KD0oBNeopTON",
        "outputId": "a9790e3d-c26e-4f39-fa97-4ce8322217cd"
      },
      "execution_count": 45,
      "outputs": [
        {
          "output_type": "stream",
          "name": "stdout",
          "text": [
            "    132     264    1848\n"
          ]
        }
      ]
    },
    {
      "cell_type": "code",
      "source": [
        "# prendre une colonne\n",
        "!cut -f 1 -d ' ' dataset/data/images_manufacturer_train.txt | head"
      ],
      "metadata": {
        "colab": {
          "base_uri": "https://localhost:8080/"
        },
        "id": "Aonc10YfqLqk",
        "outputId": "03748ad5-83a8-4ded-cf3a-092f82693675"
      },
      "execution_count": 50,
      "outputs": [
        {
          "output_type": "stream",
          "name": "stdout",
          "text": [
            "1025794\n",
            "1340192\n",
            "0056978\n",
            "0698580\n",
            "0450014\n",
            "1042824\n",
            "0894380\n",
            "1427680\n",
            "0817494\n",
            "0716386\n"
          ]
        }
      ]
    },
    {
      "cell_type": "code",
      "source": [
        "manufacturer_df['manufacturer'].value_counts(dropna=False)"
      ],
      "metadata": {
        "colab": {
          "base_uri": "https://localhost:8080/"
        },
        "id": "u2FKQtMuf277",
        "outputId": "7ac5671b-ef3e-4644-8bca-84bc7ce5e61a"
      },
      "execution_count": 46,
      "outputs": [
        {
          "output_type": "execute_result",
          "data": {
            "text/plain": [
              "Boeing                      733\n",
              "Airbus                      434\n",
              "Embraer                     233\n",
              "McDonnell Douglas           232\n",
              "de Havilland                167\n",
              "Canadair                    134\n",
              "Douglas Aircraft Company    133\n",
              "Cessna                      133\n",
              "British Aerospace           133\n",
              "Fokker                      100\n",
              "Lockheed Corporation         68\n",
              "Beechcraft                   67\n",
              "Saab                         67\n",
              "Gulfstream Aerospace         67\n",
              "Dassault Aviation            67\n",
              "Tupolev                      66\n",
              "ATR                          66\n",
              "Panavia                      34\n",
              "Yakovlev                     34\n",
              "Lockheed Martin              34\n",
              "Dornier                      34\n",
              "Antonov                      34\n",
              "Bombardier Aerospace         33\n",
              "Ilyushin                     33\n",
              "Fairchild                    33\n",
              "Piper                        33\n",
              "Cirrus Aircraft              33\n",
              "Supermarine                  33\n",
              "Robin                        33\n",
              "Eurofighter                  33\n",
              "Name: manufacturer, dtype: int64"
            ]
          },
          "metadata": {},
          "execution_count": 46
        }
      ]
    },
    {
      "cell_type": "code",
      "source": [
        "manufacturer_df.isna().sum()"
      ],
      "metadata": {
        "colab": {
          "base_uri": "https://localhost:8080/"
        },
        "id": "u1PJbGrqiFLF",
        "outputId": "de50b975-f515-4265-bbb6-9ec01148bd30"
      },
      "execution_count": 47,
      "outputs": [
        {
          "output_type": "execute_result",
          "data": {
            "text/plain": [
              "all             0\n",
              "image_id        0\n",
              "manufacturer    0\n",
              "dtype: int64"
            ]
          },
          "metadata": {},
          "execution_count": 47
        }
      ]
    },
    {
      "cell_type": "code",
      "source": [
        "assert manufacturer_df['image_id'].isna().sum() == 0, \"Missing values in image_id\"\n",
        "assert manufacturer_df['manufacturer'].isna().sum() == 0, \"Missing values in manufcaturer\""
      ],
      "metadata": {
        "id": "WjCLpiatiVgv"
      },
      "execution_count": 48,
      "outputs": []
    }
  ]
}